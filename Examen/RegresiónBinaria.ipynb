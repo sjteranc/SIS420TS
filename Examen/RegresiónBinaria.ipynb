{
  "nbformat": 4,
  "nbformat_minor": 0,
  "metadata": {
    "colab": {
      "provenance": []
    },
    "kernelspec": {
      "name": "python3",
      "display_name": "Python 3"
    },
    "language_info": {
      "name": "python"
    }
  },
  "cells": [
    {
      "cell_type": "code",
      "source": [
        "import os\n",
        "import numpy as np\n",
        "import pandas as pd\n",
        "import matplotlib.pyplot as plt\n",
        "from scipy import optimize\n",
        "import torch\n",
        "\n",
        "# Montar Google Drive para acceder a los datos si es necesario\n",
        "# from google.colab import drive\n",
        "# drive.mount('/content/drive')\n",
        "\n",
        "# Leer los datos\n",
        "data = pd.read_csv('Bank_Register_update.csv', encoding='utf-8')\n",
        "# data = pd.read_csv('./laptop_price.csv')\n",
        "\n",
        "# Leer Datos\n",
        "print(data)\n"
      ],
      "metadata": {
        "colab": {
          "base_uri": "https://localhost:8080/"
        },
        "id": "abZ4LcAoQ8xt",
        "outputId": "580ef1b6-0285-4a23-dbd1-ddf76d3cc98f"
      },
      "execution_count": 5,
      "outputs": [
        {
          "output_type": "stream",
          "name": "stdout",
          "text": [
            "      RowNumber  CustomerId  Surname  CreditScore  Geography  Gender  Age  \\\n",
            "0             1    15634602     1115          619          0       0   42   \n",
            "1             2    15647311     1177          608          2       0   41   \n",
            "2             3    15619304     2040          502          0       0   42   \n",
            "3             4    15701354      289          699          0       0   39   \n",
            "4             5    15737888     1822          850          2       0   43   \n",
            "...         ...         ...      ...          ...        ...     ...  ...   \n",
            "9995       9996    15606229     1999          771          0       1   39   \n",
            "9996       9997    15569892     1336          516          0       1   35   \n",
            "9997       9998    15584532     1570          709          0       0   36   \n",
            "9998       9999    15682355     2345          772          1       1   42   \n",
            "9999      10000    15628319     2751          792          0       0   28   \n",
            "\n",
            "      Tenure    Balance  NumOfProducts  HasCrCard  IsActiveMember  \\\n",
            "0          2       0.00              1          1               1   \n",
            "1          1   83807.86              1          0               1   \n",
            "2          8  159660.80              3          1               0   \n",
            "3          1       0.00              2          0               0   \n",
            "4          2  125510.82              1          1               1   \n",
            "...      ...        ...            ...        ...             ...   \n",
            "9995       5       0.00              2          1               0   \n",
            "9996      10   57369.61              1          1               1   \n",
            "9997       7       0.00              1          0               1   \n",
            "9998       3   75075.31              2          1               0   \n",
            "9999       4  130142.79              1          1               0   \n",
            "\n",
            "      EstimatedSalary  Exited  \n",
            "0           101348.88       1  \n",
            "1           112542.58       0  \n",
            "2           113931.57       1  \n",
            "3            93826.63       0  \n",
            "4            79084.10       0  \n",
            "...               ...     ...  \n",
            "9995         96270.64       0  \n",
            "9996        101699.77       0  \n",
            "9997         42085.58       1  \n",
            "9998         92888.52       1  \n",
            "9999         38190.78       0  \n",
            "\n",
            "[10000 rows x 14 columns]\n"
          ]
        }
      ]
    },
    {
      "cell_type": "code",
      "source": [
        "# Convertir a matrices\n",
        "X = np.array(data.iloc[:, [3,4,5,6,7,8,9,10,11,12]])\n",
        "X = np.array(data.iloc[:, 3:13])\n",
        "\n",
        "y = np.array(data.iloc[:, 13])\n",
        "\n",
        "# Obtener el número de ejemplos de entrenamiento\n",
        "m = y.size\n",
        "print(m)\n"
      ],
      "metadata": {
        "colab": {
          "base_uri": "https://localhost:8080/"
        },
        "id": "1B-EwvY4Q954",
        "outputId": "ce842546-174f-4812-af47-d9280177e9fb"
      },
      "execution_count": 6,
      "outputs": [
        {
          "output_type": "stream",
          "name": "stdout",
          "text": [
            "10000\n"
          ]
        }
      ]
    },
    {
      "cell_type": "code",
      "source": [
        "# Función para normalizar características\n",
        "def featureNormalize(X):\n",
        "    X_norm = X.copy()\n",
        "    mu = np.zeros(X.shape[1])\n",
        "    sigma = np.zeros(X.shape[1])\n",
        "\n",
        "    mu = np.mean(X, axis=0)\n",
        "    sigma = np.std(X, axis=0)\n",
        "    X_norm = (X - mu) / sigma\n",
        "\n",
        "    return X_norm, mu, sigma\n",
        "\n",
        "# Llamar a featureNormalize con los datos cargados\n",
        "X_norm, mu, sigma = featureNormalize(X)\n"
      ],
      "metadata": {
        "id": "-5m3IoG5Q-gi"
      },
      "execution_count": 7,
      "outputs": []
    },
    {
      "cell_type": "code",
      "source": [
        "# Función para normalizar características\n",
        "def featureNormalize(X):\n",
        "    X_norm = X.copy()\n",
        "    mu = np.zeros(X.shape[1])\n",
        "    sigma = np.zeros(X.shape[1])\n",
        "\n",
        "    mu = np.mean(X, axis=0)\n",
        "    sigma = np.std(X, axis=0)\n",
        "    X_norm = (X - mu) / sigma\n",
        "\n",
        "    return X_norm, mu, sigma\n",
        "\n",
        "# Llamar a featureNormalize con los datos cargados\n",
        "X_norm, mu, sigma = featureNormalize(X)\n"
      ],
      "metadata": {
        "id": "72HFLF9iQ92w"
      },
      "execution_count": 8,
      "outputs": []
    },
    {
      "cell_type": "code",
      "source": [
        "# Agregar una columna de unos para el término de sesgo\n",
        "X_norm = np.concatenate([np.ones((m, 1)), X_norm], axis=1)\n",
        "\n",
        "# Función sigmoide\n",
        "def sigmoid(z):\n",
        "    z = np.array(z)\n",
        "    g = np.zeros(z.shape)\n",
        "    g = 1 / (1 + np.exp(-z))\n",
        "    return g\n"
      ],
      "metadata": {
        "id": "p7mYfppfQ9z6"
      },
      "execution_count": 9,
      "outputs": []
    },
    {
      "cell_type": "code",
      "source": [
        "# Función de costo y descenso de gradiente\n",
        "def computeCost(theta, X, y):\n",
        "    m = y.size\n",
        "    J = 0\n",
        "    h = sigmoid(X.dot(theta))\n",
        "    J = (1 / m) * np.sum(-y.dot(np.log(h)) - (1 - y).dot(np.log(1 - h)))\n",
        "    return J\n",
        "\n",
        "def gradientDescent(theta, X, y, alpha, num_iters):\n",
        "    m = y.size\n",
        "    theta = theta.copy()\n",
        "    J_history = []\n",
        "\n",
        "    for i in range(num_iters):\n",
        "        h = sigmoid(X.dot(theta))\n",
        "        theta -= (alpha / m) * X.T.dot(h - y)\n",
        "        J_history.append(computeCost(theta, X, y))\n",
        "\n",
        "    return theta, J_history\n"
      ],
      "metadata": {
        "id": "dCGokCOMQ9xN"
      },
      "execution_count": 10,
      "outputs": []
    },
    {
      "cell_type": "code",
      "source": [
        "# Hiperparámetros para el descenso de gradiente\n",
        "alpha = 0.0001\n",
        "num_iters = 10000\n",
        "\n",
        "# Inicializar theta\n",
        "theta = np.zeros(11)\n",
        "\n",
        "# Realizar el descenso de gradiente\n",
        "theta, J_history = gradientDescent(theta, X_norm, y, alpha, num_iters)\n"
      ],
      "metadata": {
        "id": "JUDnb4HtQ9sv"
      },
      "execution_count": 17,
      "outputs": []
    },
    {
      "cell_type": "code",
      "source": [
        "# Gráfica de la convergencia del costo\n",
        "plt.plot(np.arange(len(J_history)), J_history, lw=2)\n",
        "plt.xlabel('Número de iteraciones')\n",
        "plt.ylabel('Costo J')\n",
        "plt.show()\n",
        "\n",
        "print('Theta calculado por el descenso de gradiente:', theta)\n"
      ],
      "metadata": {
        "colab": {
          "base_uri": "https://localhost:8080/",
          "height": 484
        },
        "id": "6h-Fh4oWQ9ow",
        "outputId": "b66acd52-2230-4430-b2ef-a627600b7440"
      },
      "execution_count": 12,
      "outputs": [
        {
          "output_type": "display_data",
          "data": {
            "text/plain": [
              "<Figure size 640x480 with 1 Axes>"
            ],
            "image/png": "[encoded data removed]"
          },
          "metadata": {}
        },
        {
          "output_type": "stream",
          "name": "stdout",
          "text": [
            "Theta calculado por el descenso de gradiente: [-1.63115696 -0.0638169   0.070524   -0.27037255  0.76282932 -0.04224442\n",
            "  0.30983995 -0.02309396 -0.01272176 -0.53963705  0.02853643]\n"
          ]
        }
      ]
    },
    {
      "cell_type": "code",
      "source": [
        "# Ajustar el tamaño de theta\n",
        "theta = np.zeros(11)\n",
        "\n",
        "# Predicción de probabilidad de dejar el banco\n",
        "X_array = [1.0, 619.0, 0.0, 0.0, 42.0, 2.0, 0.0, 1.0, 1.0, 1.0, 101348.88]\n",
        "X_array[1:11] = (X_array[1:11] - mu) / sigma\n",
        "X_array = np.array(X_array)\n",
        "\n",
        "# Predicción de probabilidad\n",
        "prob = sigmoid(np.dot(X_array, theta))\n",
        "\n",
        "# Mostrar la probabilidad\n",
        "print(f\"Un cliente con un balance de : {X_array[0]},\\nLugar de Residencia : {X_array[1]},\\nGénero : {X_array[2]},\\nde edad : {X_array[3]} años,\\ncon años de antigüedad : {X_array[4]} ,\\ncon Balance de : {X_array[5]},\\ncon Cantidad de Productos de Valor de : {X_array[6]},\\ncontando con Tarjeta de Crédito : {X_array[7]},\\nsiendo un cliente activo : {X_array[8]},\\ncon un Salario Estimado de : {X_array[9]}\\nTiene una probabilidad de : {prob} dejar el banco\")\n"
      ],
      "metadata": {
        "colab": {
          "base_uri": "https://localhost:8080/"
        },
        "id": "HbMTjchaRjl1",
        "outputId": "0dcae437-5028-4f67-8c7d-8d6443677cc7"
      },
      "execution_count": 18,
      "outputs": [
        {
          "output_type": "stream",
          "name": "stdout",
          "text": [
            "Un cliente con un balance de : 1.0,\n",
            "Lugar de Residencia : -0.3262214220367463,\n",
            "Género : -0.9018862432746051,\n",
            "de edad : -1.0959875190286648 años,\n",
            "con años de antigüedad : 0.2935174228967471 ,\n",
            "con Balance de : -1.0417596792253108,\n",
            "con Cantidad de Productos de Valor de : -1.2258476714090278,\n",
            "contando con Tarjeta de Crédito : -0.9115834940401767,\n",
            "siendo un cliente activo : 0.646091668153197,\n",
            "con un Salario Estimado de : 0.9702425509371355\n",
            "Tiene una probabilidad de : 0.5 dejar el banco\n"
          ]
        }
      ]
    }
  ]
}