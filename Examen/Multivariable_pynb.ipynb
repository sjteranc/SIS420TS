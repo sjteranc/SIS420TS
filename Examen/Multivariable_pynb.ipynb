{
  "nbformat": 4,
  "nbformat_minor": 0,
  "metadata": {
    "colab": {
      "provenance": []
    },
    "kernelspec": {
      "name": "python3",
      "display_name": "Python 3"
    },
    "language_info": {
      "name": "python"
    }
  },
  "cells": [
    {
      "cell_type": "code",
      "execution_count": null,
      "metadata": {
        "id": "8eKnF2f2JX2C"
      },
      "outputs": [],
      "source": [
        "import os\n",
        "import numpy as np\n",
        "import pandas as pd\n",
        "import matplotlib.pyplot as plt\n",
        "from sklearn.preprocessing import LabelEncoder\n",
        "import torch\n",
        "\n",
        "# Leer los datos utilizando Pandas\n",
        "data = pd.read_csv('train-data.csv')\n",
        "print(data)\n",
        "\n",
        "# Eliminar la columna 'N'\n",
        "data = data.drop(\"N\", axis=1)\n",
        "print(data)\n",
        "\n",
        "# Información sobre el DataFrame\n",
        "data.info()\n"
      ]
    },
    {
      "cell_type": "code",
      "source": [
        "# Seleccionar y eliminar las columnas no numéricas\n",
        "columnas_categoricas = data.select_dtypes(include=['object']).columns\n",
        "columnas_fechas = data.select_dtypes(include=['datetime64']).columns\n",
        "for columna in columnas_categoricas:\n",
        "    le = LabelEncoder()\n",
        "    data[columna] = le.fit_transform(data[columna])\n",
        "\n",
        "# Información actualizada sobre el DataFrame\n",
        "data.info()\n"
      ],
      "metadata": {
        "id": "7Np6HHBtJZWq"
      },
      "execution_count": null,
      "outputs": []
    },
    {
      "cell_type": "code",
      "source": [
        "# Seleccionar las columnas que se utilizarán como características (X) y la columna objetivo (y)\n",
        "X = data.iloc[:, [6, 7, 8]]\n",
        "y = data.iloc[:, 11]\n",
        "\n",
        "# Convertir los datos de Pandas a tensores de PyTorch\n",
        "X = torch.tensor(X.values, dtype=torch.float32)\n",
        "y = torch.tensor(y.values, dtype=torch.float32).view(-1, 1)\n",
        "\n",
        "# Obtener el número de filas (muestras)\n",
        "m = y.size(0)\n",
        "\n",
        "# Función para normalizar las características\n",
        "def featureNormalize(X):\n",
        "    mu = torch.mean(X, dim=0)\n",
        "    sigma = torch.std(X, dim=0)\n",
        "    X_norm = (X - mu) / sigma\n",
        "    return X_norm, mu, sigma\n",
        "\n",
        "# Normalizar las características\n",
        "X_norm, mu, sigma = featureNormalize(X)\n",
        "\n",
        "# Agregar una columna de unos para el término de sesgo (intercept)\n",
        "X_norm = torch.cat((torch.ones((m, 1)), X_norm), dim=1)\n"
      ],
      "metadata": {
        "id": "DP3DGAfRJo9P"
      },
      "execution_count": null,
      "outputs": []
    },
    {
      "cell_type": "code",
      "source": [
        "# Función para calcular la función de costo\n",
        "def computeCostMulti(X, y, theta):\n",
        "    m = y.size(0)\n",
        "    h = torch.mm(X, theta)\n",
        "    J = (1 / (2 * m)) * torch.sum((h - y) ** 2)\n",
        "    return J\n",
        "\n",
        "# Función para el descenso del gradiente\n",
        "def gradientDescentMulti(X, y, theta, alpha, num_iters):\n",
        "    m = y.size(0)\n",
        "    J_history = []\n",
        "\n",
        "    for i in range(num_iters):\n",
        "        h = torch.mm(X, theta)\n",
        "        theta -= (alpha / m) * torch.mm(X.t(), (h - y))\n",
        "        J_history.append(computeCostMulti(X, y, theta))\n",
        "\n",
        "    return theta, J_history\n"
      ],
      "metadata": {
        "id": "KO9msdlIJqkt"
      },
      "execution_count": null,
      "outputs": []
    },
    {
      "cell_type": "code",
      "source": [
        "# Hiperparámetros para el descenso del gradiente\n",
        "alpha = 0.0003\n",
        "num_iters = 20000\n",
        "\n",
        "# Inicializar los parámetros theta a ceros\n",
        "theta = torch.zeros((X_norm.size(1), 1), dtype=torch.float32)\n",
        "\n",
        "# Realizar el descenso del gradiente\n",
        "theta, J_history = gradientDescentMulti(X_norm, y, theta, alpha, num_iters)\n"
      ],
      "metadata": {
        "id": "kPnCqdOeJrn0"
      },
      "execution_count": null,
      "outputs": []
    },
    {
      "cell_type": "code",
      "source": [
        "# Gráfica de la convergencia del costo a través de las iteraciones\n",
        "plt.plot(range(len(J_history)), J_history, lw=2)\n",
        "plt.xlabel('Número de iteraciones')\n",
        "plt.ylabel('Costo J')\n",
        "plt.show()\n",
        "\n",
        "print('Theta calculado por el descenso del gradiente:', theta)\n"
      ],
      "metadata": {
        "id": "w367KDvVJsz-"
      },
      "execution_count": null,
      "outputs": []
    },
    {
      "cell_type": "code",
      "source": [
        "# Datos de prueba para predecir el precio\n",
        "X_array = [1.0, 403.0, 144.0, 260.0]\n",
        "\n",
        "# Normalizar las características de prueba usando mu y sigma calculados previamente\n",
        "X_array[1:4] = (X_array[1:4] - mu.numpy()) / sigma.numpy()\n",
        "\n",
        "# Agregar el término de sesgo\n",
        "X_array = [1.0] + X_array\n",
        "\n",
        "# Convertir a tensor de PyTorch\n",
        "X_array = torch.tensor(X_array, dtype=torch.float32)\n",
        "\n",
        "# Calcular el precio estimado utilizando el modelo entrenado\n",
        "price = torch.mm(X_array.view(1, -1), theta)\n",
        "print('El precio estimado es de: ${:.0f}'.format(price.item()))\n"
      ],
      "metadata": {
        "id": "TMJ_AyL-Jt_W"
      },
      "execution_count": null,
      "outputs": []
    }
  ]
}